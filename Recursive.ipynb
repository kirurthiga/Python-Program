{
 "cells": [
  {
   "cell_type": "markdown",
   "metadata": {},
   "source": [
    "Question: Johan going to the church and there are n stairs to reach to Prayer hall.\n",
    "Johan can move either 1 step, 2 step or 3 steps at a time.\n",
    "Implement a method to count how many possible ways Johan can run up the stairs."
   ]
  },
  {
   "cell_type": "code",
   "execution_count": 4,
   "metadata": {},
   "outputs": [
    {
     "name": "stdout",
     "output_type": "stream",
     "text": [
      "Output Is: 4\n"
     ]
    }
   ],
   "source": [
    "# Recursive Method\n",
    "def findStep( n) :\n",
    "    if (n == 1 or n == 0) :\n",
    "        return 1\n",
    "    elif (n == 2) :\n",
    "        return 2\n",
    "\n",
    "    else :\n",
    "        return findStep(n - 3) + findStep(n - 2) + findStep(n - 1)\n",
    "n = 3\n",
    "print('Output Is:',findStep(n))\n"
   ]
  }
 ],
 "metadata": {
  "kernelspec": {
   "display_name": "Python 3",
   "language": "python",
   "name": "python3"
  },
  "language_info": {
   "codemirror_mode": {
    "name": "ipython",
    "version": 3
   },
   "file_extension": ".py",
   "mimetype": "text/x-python",
   "name": "python",
   "nbconvert_exporter": "python",
   "pygments_lexer": "ipython3",
   "version": "3.7.0"
  }
 },
 "nbformat": 4,
 "nbformat_minor": 2
}
